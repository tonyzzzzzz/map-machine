{
 "cells": [
  {
   "cell_type": "code",
   "execution_count": null,
   "metadata": {},
   "outputs": [],
   "source": [
    "!pip install earthengine-api ipywidgets"
   ]
  },
  {
   "cell_type": "code",
   "execution_count": 1,
   "metadata": {},
   "outputs": [],
   "source": [
    "from map_machine import mapper\n",
    "from map_machine.ui.cli import parse_arguments\n",
    "# from maploc.get_bev import get_osm_data, draw_bev\n",
    "from map_machine.geometry.boundary_box import BoundaryBox\n",
    "from pathlib import Path\n",
    "from map_machine.scheme import Scheme\n",
    "from map_machine.map_configuration import MapConfiguration\n",
    "from xml.etree import ElementTree as ET\n",
    "from map_machine.osm.osm_reader import OSMData\n",
    "import colour\n",
    "import matplotlib.pyplot as plt\n",
    "import numpy as np\n",
    "from map_machine.geometry.flinger import MercatorFlinger\n",
    "# from mapper.data.get_bev import get_osm_data, draw_bev, process_img, get_bev_from_bbox\n",
    "# import numpy as np\n",
    "from map_machine.mapper import Map\n",
    "from map_machine.constructor import Constructor\n",
    "from map_machine.pictogram.icon import ShapeExtractor\n",
    "from map_machine.workspace import workspace\n",
    "import svgwrite\n",
    "import cairosvg\n",
    "\n",
    "import ee, requests, io\n",
    "from PIL import Image\n",
    "from ipywidgets import interact, FloatSlider"
   ]
  },
  {
   "cell_type": "code",
   "execution_count": 2,
   "metadata": {},
   "outputs": [],
   "source": [
    "ee.Authenticate()\n",
    "ee.Initialize(project='ee-tony200303zt')"
   ]
  },
  {
   "cell_type": "code",
   "execution_count": 18,
   "metadata": {},
   "outputs": [],
   "source": [
    "bbox_str = \"-79.92367,40.46017,-79.92170,40.46121\""
   ]
  },
  {
   "cell_type": "code",
   "execution_count": 19,
   "metadata": {},
   "outputs": [],
   "source": [
    "bbox = BoundaryBox.from_text(bbox_str)\n",
    "bbox_ee = [float(x) for x in bbox_str.split(\",\")]"
   ]
  },
  {
   "cell_type": "code",
   "execution_count": 20,
   "metadata": {},
   "outputs": [],
   "source": [
    "def get_osm_data(bbox):\n",
    "    ENDPOINT = \"http://overpass.kumi.systems/api/map\"\n",
    "    bbox = bbox\n",
    "\n",
    "    response = requests.get(f\"{ENDPOINT}?bbox={bbox}\")\n",
    "    xml_str = response.content.decode(\"utf-8\")\n",
    "\n",
    "    return xml_str"
   ]
  },
  {
   "cell_type": "code",
   "execution_count": 22,
   "metadata": {},
   "outputs": [],
   "source": [
    "scheme = Scheme.from_file(Path(\"mapstyle.yaml\"))\n",
    "conf = MapConfiguration(scheme, show_credit=False)\n",
    "tree = ET.fromstring(get_osm_data(bbox_str))\n",
    "osm_data = OSMData()\n",
    "osm_data.parse_osm(tree, parse_nodes=True, \n",
    "                    parse_relations=True, parse_ways=True) "
   ]
  },
  {
   "cell_type": "code",
   "execution_count": 23,
   "metadata": {},
   "outputs": [],
   "source": [
    "def draw_bev(bbox: BoundaryBox, osm_data: OSMData,\n",
    "             configuration: MapConfiguration, meters_per_pixel: float):\n",
    "    \"\"\"Rasterize OSM data as a BEV image\"\"\"\n",
    "    lat = bbox.center()[0]\n",
    "    # Equation rearranged from https://wiki.openstreetmap.org/wiki/Zoom_levels\n",
    "    # To get zoom level given meters_per_pixel\n",
    "    z = np.log2(np.abs(osm_data.equator_length*np.cos(np.deg2rad(lat))/meters_per_pixel/256))\n",
    "    flinger = MercatorFlinger(bbox, z, osm_data.equator_length)\n",
    "\n",
    "    size = flinger.size\n",
    "    svg: svgwrite.Drawing = svgwrite.Drawing(None, size) # None since we are not saving an svg file\n",
    "\n",
    "    icon_extractor: ShapeExtractor = ShapeExtractor(\n",
    "        workspace.ICONS_PATH, workspace.ICONS_CONFIG_PATH\n",
    "    )\n",
    "    constructor: Constructor = Constructor(\n",
    "        osm_data=osm_data,\n",
    "        flinger=flinger,\n",
    "        extractor=icon_extractor,\n",
    "        configuration=configuration,\n",
    "    )\n",
    "    constructor.construct()\n",
    "    map_: Map = Map(flinger=flinger, svg=svg, configuration=configuration)\n",
    "    imgs = []\n",
    "\n",
    "    map_.draw(constructor)\n",
    "\n",
    "    png_byte_string = cairosvg.svg2png(bytestring=svg.tostring(), \n",
    "                                            output_width=size[0], \n",
    "                                            output_height=size[1]) # convert svg to png\n",
    "    img = Image.open(io.BytesIO(png_byte_string))\n",
    "\n",
    "    return img"
   ]
  },
  {
   "cell_type": "code",
   "execution_count": 24,
   "metadata": {},
   "outputs": [],
   "source": [
    "def get_satellite_from_bbox(bbox, output_fp, num_pixels, heading):\n",
    "    region = ee.Geometry.Rectangle(bbox, proj=\"EPSG:4326\", geodesic=False)\n",
    "    # Load a satellite image collection, filter it by date and region, then select the first image\n",
    "    image = ee.ImageCollection('USDA/NAIP/DOQQ') \\\n",
    "        .filterBounds(region) \\\n",
    "        .filterDate('2022-01-01', '2022-12-31') \\\n",
    "        .sort('CLOUDY_PIXEL_PERCENTAGE') \\\n",
    "        .first().select(['R', 'G', 'B'])\n",
    "\n",
    "    # Reproject the image to a common projection (e.g., EPSG:4326)\n",
    "    image = image.reproject(crs='EPSG:4326', scale=0.5)\n",
    "\n",
    "    # Get the image URL\n",
    "    url = image.getThumbURL({'min': 0, 'max': 255, 'region': region.getInfo()['coordinates']})\n",
    "\n",
    "    # Download the image to your desktop\n",
    "    response = requests.get(url)\n",
    "    img = Image.open(io.BytesIO(response.content))\n",
    "\n",
    "    return img"
   ]
  },
  {
   "cell_type": "code",
   "execution_count": 25,
   "metadata": {},
   "outputs": [],
   "source": [
    "sat_img = get_satellite_from_bbox(bbox_ee, \"satellite.png\", 1000, 0)"
   ]
  },
  {
   "cell_type": "code",
   "execution_count": 26,
   "metadata": {},
   "outputs": [],
   "source": [
    "map_img = draw_bev(bbox=bbox, osm_data=osm_data, configuration=conf, meters_per_pixel=0.05)\n",
    "map_img = map_img.resize(sat_img.size)"
   ]
  },
  {
   "cell_type": "code",
   "execution_count": 27,
   "metadata": {},
   "outputs": [],
   "source": [
    "def show_images(alpha):\n",
    "    plt.imshow(sat_img)\n",
    "    plt.imshow(map_img, alpha=alpha)\n",
    "    plt.show()"
   ]
  },
  {
   "cell_type": "code",
   "execution_count": 28,
   "metadata": {},
   "outputs": [
    {
     "data": {
      "application/vnd.jupyter.widget-view+json": {
       "model_id": "7784c9ee1e694b7e9c044a7e47b095b1",
       "version_major": 2,
       "version_minor": 0
      },
      "text/plain": [
       "interactive(children=(FloatSlider(value=0.0, description='alpha', max=1.0), Output()), _dom_classes=('widget-i…"
      ]
     },
     "metadata": {},
     "output_type": "display_data"
    },
    {
     "data": {
      "text/plain": [
       "<function __main__.show_images(alpha)>"
      ]
     },
     "execution_count": 28,
     "metadata": {},
     "output_type": "execute_result"
    }
   ],
   "source": [
    "interact(show_images, alpha=FloatSlider(min=0., max=1., step=0.1))"
   ]
  },
  {
   "cell_type": "code",
   "execution_count": null,
   "metadata": {},
   "outputs": [],
   "source": []
  }
 ],
 "metadata": {
  "kernelspec": {
   "display_name": "torch-20",
   "language": "python",
   "name": "python3"
  },
  "language_info": {
   "codemirror_mode": {
    "name": "ipython",
    "version": 3
   },
   "file_extension": ".py",
   "mimetype": "text/x-python",
   "name": "python",
   "nbconvert_exporter": "python",
   "pygments_lexer": "ipython3",
   "version": "3.10.13"
  }
 },
 "nbformat": 4,
 "nbformat_minor": 2
}
